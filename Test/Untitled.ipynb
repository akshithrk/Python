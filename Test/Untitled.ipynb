{
 "cells": [
  {
   "cell_type": "code",
   "execution_count": 2,
   "metadata": {},
   "outputs": [],
   "source": [
    "import pandas as pd\n",
    "import numpy as np"
   ]
  },
  {
   "cell_type": "code",
   "execution_count": 3,
   "metadata": {},
   "outputs": [
    {
     "name": "stdout",
     "output_type": "stream",
     "text": [
      " Volume in drive C is Windows\n",
      " Volume Serial Number is 7C66-8E97\n",
      "\n",
      " Directory of C:\\Users\\ch186802\\Python\\Test\n",
      "\n",
      "06/15/2018  13:45    <DIR>          .\n",
      "06/15/2018  13:45    <DIR>          ..\n",
      "06/15/2018  13:39    <DIR>          .ipynb_checkpoints\n",
      "06/15/2018  13:45               753 Untitled.ipynb\n",
      "08/11/2016  14:07         3,714,254 yesware-test-data-v1-6.txt\n",
      "               2 File(s)      3,715,007 bytes\n",
      "               3 Dir(s)  314,275,565,568 bytes free\n"
     ]
    }
   ],
   "source": [
    "ls"
   ]
  },
  {
   "cell_type": "code",
   "execution_count": 13,
   "metadata": {},
   "outputs": [],
   "source": [
    "raw_data = pd.read_table('yesware-test-data-v1-6.txt', names=('A'))"
   ]
  },
  {
   "cell_type": "code",
   "execution_count": null,
   "metadata": {},
   "outputs": [],
   "source": []
  }
 ],
 "metadata": {
  "kernelspec": {
   "display_name": "Python 3",
   "language": "python",
   "name": "python3"
  },
  "language_info": {
   "codemirror_mode": {
    "name": "ipython",
    "version": 3
   },
   "file_extension": ".py",
   "mimetype": "text/x-python",
   "name": "python",
   "nbconvert_exporter": "python",
   "pygments_lexer": "ipython3",
   "version": "3.6.4"
  }
 },
 "nbformat": 4,
 "nbformat_minor": 2
}
