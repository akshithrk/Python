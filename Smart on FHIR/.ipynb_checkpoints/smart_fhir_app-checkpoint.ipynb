{
 "cells": [
  {
   "cell_type": "code",
   "execution_count": 1,
   "metadata": {},
   "outputs": [
    {
     "name": "stdout",
     "output_type": "stream",
     "text": [
      "\n",
      "The following command must be run outside of the IPython shell:\n",
      "\n",
      "    $ pip install fhirclient\n",
      "\n",
      "The Python package manager (pip) can only be used from outside of IPython.\n",
      "Please reissue the `pip` command in a separate terminal or command prompt.\n",
      "\n",
      "See the Python documentation for more informations on how to install packages:\n",
      "\n",
      "    https://docs.python.org/3/installing/\n"
     ]
    }
   ],
   "source": [
    "pip install fhirclient"
   ]
  },
  {
   "cell_type": "code",
   "execution_count": 1,
   "metadata": {},
   "outputs": [
    {
     "ename": "ModuleNotFoundError",
     "evalue": "No module named 'flaskbeaker'",
     "output_type": "error",
     "traceback": [
      "\u001b[1;31m---------------------------------------------------------------------------\u001b[0m",
      "\u001b[1;31mModuleNotFoundError\u001b[0m                       Traceback (most recent call last)",
      "\u001b[1;32m<ipython-input-1-ca3f6bca0ad8>\u001b[0m in \u001b[0;36m<module>\u001b[1;34m()\u001b[0m\n\u001b[0;32m    121\u001b[0m \u001b[1;31m# start the app\u001b[0m\u001b[1;33m\u001b[0m\u001b[1;33m\u001b[0m\u001b[0m\n\u001b[0;32m    122\u001b[0m \u001b[1;32mif\u001b[0m \u001b[1;34m'__main__'\u001b[0m \u001b[1;33m==\u001b[0m \u001b[0m__name__\u001b[0m\u001b[1;33m:\u001b[0m\u001b[1;33m\u001b[0m\u001b[0m\n\u001b[1;32m--> 123\u001b[1;33m     \u001b[1;32mimport\u001b[0m \u001b[0mflaskbeaker\u001b[0m\u001b[1;33m\u001b[0m\u001b[0m\n\u001b[0m\u001b[0;32m    124\u001b[0m     \u001b[0mflaskbeaker\u001b[0m\u001b[1;33m.\u001b[0m\u001b[0mFlaskBeaker\u001b[0m\u001b[1;33m.\u001b[0m\u001b[0msetup_app\u001b[0m\u001b[1;33m(\u001b[0m\u001b[0mapp\u001b[0m\u001b[1;33m)\u001b[0m\u001b[1;33m\u001b[0m\u001b[0m\n\u001b[0;32m    125\u001b[0m \u001b[1;33m\u001b[0m\u001b[0m\n",
      "\u001b[1;31mModuleNotFoundError\u001b[0m: No module named 'flaskbeaker'"
     ]
    }
   ],
   "source": [
    "import logging\n",
    "from fhirclient import client\n",
    "from fhirclient.models.medication import Medication\n",
    "from fhirclient.models.medicationrequest import MedicationRequest\n",
    "\n",
    "from flask import Flask, request, redirect, session\n",
    "\n",
    "# app setup\n",
    "smart_defaults = {\n",
    "    'app_id': 'my_web_app',\n",
    "    'api_base': 'https://sb-fhir-stu3.smarthealthit.org/smartstu3/data',\n",
    "    'redirect_uri': 'http://localhost:8000/fhir-app/',\n",
    "}\n",
    "\n",
    "app = Flask(__name__)\n",
    "\n",
    "def _save_state(state):\n",
    "    session['state'] = state\n",
    "\n",
    "def _get_smart():\n",
    "    state = session.get('state')\n",
    "    if state:\n",
    "        return client.FHIRClient(state=state, save_func=_save_state)\n",
    "    else:\n",
    "        return client.FHIRClient(settings=smart_defaults, save_func=_save_state)\n",
    "\n",
    "def _logout():\n",
    "    if 'state' in session:\n",
    "        smart = _get_smart()\n",
    "        smart.reset_patient()\n",
    "\n",
    "def _reset():\n",
    "    if 'state' in session:\n",
    "        del session['state']\n",
    "\n",
    "def _get_prescriptions(smart):\n",
    "    bundle = MedicationRequest.where({'patient': smart.patient_id}).perform(smart.server)\n",
    "    pres = [be.resource for be in bundle.entry] if bundle is not None and bundle.entry is not None else None\n",
    "    if pres is not None and len(pres) > 0:\n",
    "        return pres\n",
    "    return None\n",
    "\n",
    "def _get_medication_by_ref(ref, smart):\n",
    "    med_id = ref.split(\"/\")[1]\n",
    "    return Medication.read(med_id, smart.server).code\n",
    "\n",
    "def _med_name(med):\n",
    "    if med.coding:\n",
    "        name = next((coding.display for coding in med.coding if coding.system == 'http://www.nlm.nih.gov/research/umls/rxnorm'), None)\n",
    "        if name:\n",
    "            return name\n",
    "    if med.text and med.text:\n",
    "        return med.text\n",
    "    return \"Unnamed Medication(TM)\"\n",
    "\n",
    "def _get_med_name(prescription, client=None):\n",
    "    if prescription.medicationCodeableConcept is not None:\n",
    "        med = prescription.medicationCodeableConcept\n",
    "        return _med_name(med)\n",
    "    elif prescription.medicationReference is not None and client is not None:\n",
    "        med = _get_medication_by_ref(prescription.medicationReference.reference, client)\n",
    "        return _med_name(med)\n",
    "    else:\n",
    "        return 'Error: medication not found'\n",
    "\n",
    "# views\n",
    "\n",
    "@app.route('/')\n",
    "@app.route('/index.html')\n",
    "def index():\n",
    "    \"\"\" The app's main page.\n",
    "    \"\"\"\n",
    "    smart = _get_smart()\n",
    "    body = \"<h1>Hello</h1>\"\n",
    "    \n",
    "    if smart.ready and smart.patient is not None:       # \"ready\" may be true but the access token may have expired, making smart.patient = None\n",
    "        name = smart.human_name(smart.patient.name[0] if smart.patient.name and len(smart.patient.name) > 0 else 'Unknown')\n",
    "        \n",
    "        # generate simple body text\n",
    "        body += \"<p>You are authorized and ready to make API requests for <em>{0}</em>.</p>\".format(name)\n",
    "        pres = _get_prescriptions(smart)\n",
    "        if pres is not None:\n",
    "            body += \"<p>{0} prescriptions: <ul><li>{1}</li></ul></p>\".format(\"His\" if 'male' == smart.patient.gender else \"Her\", '</li><li>'.join([_get_med_name(p,smart) for p in pres]))\n",
    "        else:\n",
    "            body += \"<p>(There are no prescriptions for {0})</p>\".format(\"him\" if 'male' == smart.patient.gender else \"her\")\n",
    "        body += \"\"\"<p><a href=\"/logout\">Change patient</a></p>\"\"\"\n",
    "    else:\n",
    "        auth_url = smart.authorize_url\n",
    "        if auth_url is not None:\n",
    "            body += \"\"\"<p>Please <a href=\"{0}\">authorize</a>.</p>\"\"\".format(auth_url)\n",
    "        else:\n",
    "            body += \"\"\"<p>Running against a no-auth server, nothing to demo here. \"\"\"\n",
    "        body += \"\"\"<p><a href=\"/reset\" style=\"font-size:small;\">Reset</a></p>\"\"\"\n",
    "    return body\n",
    "\n",
    "\n",
    "@app.route('/fhir-app/')\n",
    "def callback():\n",
    "    \"\"\" OAuth2 callback interception.\n",
    "    \"\"\"\n",
    "    smart = _get_smart()\n",
    "    try:\n",
    "        smart.handle_callback(request.url)\n",
    "    except Exception as e:\n",
    "        return \"\"\"<h1>Authorization Error</h1><p>{0}</p><p><a href=\"/\">Start over</a></p>\"\"\".format(e)\n",
    "    return redirect('/')\n",
    "\n",
    "\n",
    "@app.route('/logout')\n",
    "def logout():\n",
    "    _logout()\n",
    "    return redirect('/')\n",
    "\n",
    "\n",
    "@app.route('/reset')\n",
    "def reset():\n",
    "    _reset()\n",
    "    return redirect('/')\n",
    "\n",
    "\n",
    "# start the app\n",
    "if '__main__' == __name__:\n",
    "    import flaskbeaker\n",
    "    flaskbeaker.FlaskBeaker.setup_app(app)\n",
    "    \n",
    "    logging.basicConfig(level=logging.DEBUG)\n",
    "    app.run(debug=True, port=8000)"
   ]
  },
  {
   "cell_type": "code",
   "execution_count": 2,
   "metadata": {},
   "outputs": [],
   "source": [
    "import logging\n",
    "from fhirclient import client\n",
    "from fhirclient.models.medication import Medication\n",
    "from fhirclient.models.medicationrequest import MedicationRequest"
   ]
  },
  {
   "cell_type": "code",
   "execution_count": 4,
   "metadata": {},
   "outputs": [],
   "source": [
    "from flask import Flask, request, redirect, session"
   ]
  },
  {
   "cell_type": "code",
   "execution_count": 5,
   "metadata": {},
   "outputs": [],
   "source": [
    "# app setup\n",
    "smart_defaults = {\n",
    "    'app_id': 'my_web_app',\n",
    "    'api_base': 'https://sb-fhir-stu3.smarthealthit.org/smartstu3/data',\n",
    "    'redirect_uri': 'http://localhost:8000/fhir-app/',\n",
    "}"
   ]
  },
  {
   "cell_type": "code",
   "execution_count": 6,
   "metadata": {},
   "outputs": [],
   "source": [
    "app = Flask(__name__)\n",
    "\n",
    "def _save_state(state):\n",
    "    session['state'] = state"
   ]
  },
  {
   "cell_type": "code",
   "execution_count": 7,
   "metadata": {},
   "outputs": [],
   "source": [
    "def _get_smart():\n",
    "    state = session.get('state')\n",
    "    if state:\n",
    "        return client.FHIRClient(state=state, save_func=_save_state)\n",
    "    else:\n",
    "        return client.FHIRClient(settings=smart_defaults, save_func=_save_state)"
   ]
  },
  {
   "cell_type": "code",
   "execution_count": 8,
   "metadata": {},
   "outputs": [],
   "source": [
    "def _logout():\n",
    "    if 'state' in session:\n",
    "        smart = _get_smart()\n",
    "        smart.reset_patient()\n",
    "\n",
    "def _reset():\n",
    "    if 'state' in session:\n",
    "        del session['state']"
   ]
  },
  {
   "cell_type": "code",
   "execution_count": 9,
   "metadata": {},
   "outputs": [],
   "source": [
    "def _get_prescriptions(smart):\n",
    "    bundle = MedicationRequest.where({'patient': smart.patient_id}).perform(smart.server)\n",
    "    pres = [be.resource for be in bundle.entry] if bundle is not None and bundle.entry is not None else None\n",
    "    if pres is not None and len(pres) > 0:\n",
    "        return pres\n",
    "    return None"
   ]
  },
  {
   "cell_type": "code",
   "execution_count": 10,
   "metadata": {},
   "outputs": [],
   "source": [
    "def _get_medication_by_ref(ref, smart):\n",
    "    med_id = ref.split(\"/\")[1]\n",
    "    return Medication.read(med_id, smart.server).code"
   ]
  },
  {
   "cell_type": "code",
   "execution_count": 11,
   "metadata": {},
   "outputs": [],
   "source": [
    "def _med_name(med):\n",
    "    if med.coding:\n",
    "        name = next((coding.display for coding in med.coding if coding.system == 'http://www.nlm.nih.gov/research/umls/rxnorm'), None)\n",
    "        if name:\n",
    "            return name\n",
    "    if med.text and med.text:\n",
    "        return med.text\n",
    "    return \"Unnamed Medication(TM)\""
   ]
  },
  {
   "cell_type": "code",
   "execution_count": 12,
   "metadata": {},
   "outputs": [],
   "source": [
    "def _get_med_name(prescription, client=None):\n",
    "    if prescription.medicationCodeableConcept is not None:\n",
    "        med = prescription.medicationCodeableConcept\n",
    "        return _med_name(med)\n",
    "    elif prescription.medicationReference is not None and client is not None:\n",
    "        med = _get_medication_by_ref(prescription.medicationReference.reference, client)\n",
    "        return _med_name(med)\n",
    "    else:\n",
    "        return 'Error: medication not found'"
   ]
  },
  {
   "cell_type": "code",
   "execution_count": 13,
   "metadata": {},
   "outputs": [
    {
     "ename": "SyntaxError",
     "evalue": "unexpected EOF while parsing (<ipython-input-13-0e1df6127c4d>, line 4)",
     "output_type": "error",
     "traceback": [
      "\u001b[1;36m  File \u001b[1;32m\"<ipython-input-13-0e1df6127c4d>\"\u001b[1;36m, line \u001b[1;32m4\u001b[0m\n\u001b[1;33m    @app.route('/index.html')\u001b[0m\n\u001b[1;37m                             ^\u001b[0m\n\u001b[1;31mSyntaxError\u001b[0m\u001b[1;31m:\u001b[0m unexpected EOF while parsing\n"
     ]
    }
   ],
   "source": [
    "# views\n",
    "\n",
    "@app.route('/')\n",
    "@app.route('/index.html')"
   ]
  },
  {
   "cell_type": "code",
   "execution_count": 14,
   "metadata": {},
   "outputs": [
    {
     "ename": "SyntaxError",
     "evalue": "unexpected EOF while parsing (<ipython-input-14-505d4296f18a>, line 1)",
     "output_type": "error",
     "traceback": [
      "\u001b[1;36m  File \u001b[1;32m\"<ipython-input-14-505d4296f18a>\"\u001b[1;36m, line \u001b[1;32m1\u001b[0m\n\u001b[1;33m    @app.route('/')\u001b[0m\n\u001b[1;37m                   ^\u001b[0m\n\u001b[1;31mSyntaxError\u001b[0m\u001b[1;31m:\u001b[0m unexpected EOF while parsing\n"
     ]
    }
   ],
   "source": [
    "@app.route('/')"
   ]
  },
  {
   "cell_type": "code",
   "execution_count": 15,
   "metadata": {},
   "outputs": [],
   "source": [
    "#@app.route('/')\n",
    "#@app.route('/index.html')\n",
    "#the above 2 lines didnt work so moving forward with defining other functions of the app"
   ]
  },
  {
   "cell_type": "code",
   "execution_count": 16,
   "metadata": {},
   "outputs": [
    {
     "ename": "SyntaxError",
     "evalue": "invalid syntax (<ipython-input-16-d796cf7219eb>, line 21)",
     "output_type": "error",
     "traceback": [
      "\u001b[1;36m  File \u001b[1;32m\"<ipython-input-16-d796cf7219eb>\"\u001b[1;36m, line \u001b[1;32m21\u001b[0m\n\u001b[1;33m    body += \"\"\"<p>Please <a href=\"{0}\">authorize</a>.</p>\"\"\".format(auth_url)im\u001b[0m\n\u001b[1;37m                                                                              ^\u001b[0m\n\u001b[1;31mSyntaxError\u001b[0m\u001b[1;31m:\u001b[0m invalid syntax\n"
     ]
    }
   ],
   "source": [
    "def index():\n",
    "    \"\"\" The app's main page.\n",
    "    \"\"\"\n",
    "    smart = _get_smart()\n",
    "    body = \"<h1>Hello</h1>\"\n",
    "    \n",
    "    if smart.ready and smart.patient is not None:       # \"ready\" may be true but the access token may have expired, making smart.patient = None\n",
    "        name = smart.human_name(smart.patient.name[0] if smart.patient.name and len(smart.patient.name) > 0 else 'Unknown')\n",
    "        \n",
    "        # generate simple body text\n",
    "        body += \"<p>You are authorized and ready to make API requests for <em>{0}</em>.</p>\".format(name)\n",
    "        pres = _get_prescriptions(smart)\n",
    "        if pres is not None:\n",
    "            body += \"<p>{0} prescriptions: <ul><li>{1}</li></ul></p>\".format(\"His\" if 'male' == smart.patient.gender else \"Her\", '</li><li>'.join([_get_med_name(p,smart) for p in pres]))\n",
    "        else:\n",
    "            body += \"<p>(There are no prescriptions for {0})</p>\".format(\"him\" if 'male' == smart.patient.gender else \"her\")\n",
    "        body += \"\"\"<p><a href=\"/logout\">Change patient</a></p>\"\"\"\n",
    "    else:\n",
    "        auth_url = smart.authorize_url\n",
    "        if auth_url is not None:\n",
    "            body += \"\"\"<p>Please <a href=\"{0}\">authorize</a>.</p>\"\"\".format(auth_url)im\n",
    "        else:\n",
    "            body += \"\"\"<p>Running against a no-auth server, nothing to demo here. \"\"\"\n",
    "        body += \"\"\"<p><a href=\"/reset\" style=\"font-size:small;\">Reset</a></p>\"\"\"\n",
    "    return body"
   ]
  },
  {
   "cell_type": "code",
   "execution_count": null,
   "metadata": {},
   "outputs": [],
   "source": []
  }
 ],
 "metadata": {
  "kernelspec": {
   "display_name": "Python 3",
   "language": "python",
   "name": "python3"
  },
  "language_info": {
   "codemirror_mode": {
    "name": "ipython",
    "version": 3
   },
   "file_extension": ".py",
   "mimetype": "text/x-python",
   "name": "python",
   "nbconvert_exporter": "python",
   "pygments_lexer": "ipython3",
   "version": "3.6.4"
  }
 },
 "nbformat": 4,
 "nbformat_minor": 2
}
